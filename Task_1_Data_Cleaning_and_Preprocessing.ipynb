{
  "nbformat": 4,
  "nbformat_minor": 0,
  "metadata": {
    "colab": {
      "provenance": []
    },
    "kernelspec": {
      "name": "python3",
      "display_name": "Python 3"
    },
    "language_info": {
      "name": "python"
    }
  },
  "cells": [
    {
      "cell_type": "code",
      "execution_count": 1,
      "metadata": {
        "colab": {
          "base_uri": "https://localhost:8080/"
        },
        "id": "v9jHwCR3un34",
        "outputId": "7e0b4b30-4461-40b5-a245-ffc6e1d621d0"
      },
      "outputs": [
        {
          "output_type": "stream",
          "name": "stdout",
          "text": [
            "✅ Data cleaned (including duplicate removal) and saved as 'cleaned_sales_data.csv'\n"
          ]
        }
      ],
      "source": [
        "import pandas as pd\n",
        "\n",
        "# Load the dataset\n",
        "df = pd.read_csv(\"sales_data_sample.csv\", encoding='latin1')\n",
        "\n",
        "# Step 1: Drop columns with too many missing values\n",
        "columns_to_drop = ['ADDRESSLINE2', 'STATE', 'TERRITORY']\n",
        "df = df.drop(columns=columns_to_drop)\n",
        "\n",
        "# Step 2: Drop rows where POSTALCODE is missing\n",
        "df = df.dropna(subset=['POSTALCODE'])\n",
        "\n",
        "# Step 3: Remove duplicate rows\n",
        "df = df.drop_duplicates()\n",
        "\n",
        "# Step 4: Standardize text columns\n",
        "df['COUNTRY'] = df['COUNTRY'].str.strip().str.upper()\n",
        "df['STATUS'] = df['STATUS'].str.strip().str.upper()\n",
        "df['DEALSIZE'] = df['DEALSIZE'].str.strip().str.upper()\n",
        "\n",
        "# Step 5: Convert ORDERDATE to datetime\n",
        "df['ORDERDATE'] = pd.to_datetime(df['ORDERDATE'], errors='coerce', format='%m/%d/%Y')\n",
        "\n",
        "# Step 6: Rename columns to lowercase with underscores\n",
        "df.columns = df.columns.str.strip().str.lower().str.replace(\" \", \"_\")\n",
        "\n",
        "# Step 7: Fix data types\n",
        "df['quantityordered'] = df['quantityordered'].astype(int)\n",
        "df['priceeach'] = df['priceeach'].astype(float)\n",
        "df['postalcode'] = df['postalcode'].astype(str)\n",
        "\n",
        "# Step 8: Save cleaned dataset\n",
        "df.to_csv(\"cleaned_sales_data.csv\", index=False)\n",
        "\n",
        "print(\"✅ Data cleaned (including duplicate removal) and saved as 'cleaned_sales_data.csv'\")\n"
      ]
    }
  ]
}